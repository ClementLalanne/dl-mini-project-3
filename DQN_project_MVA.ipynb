{
 "cells": [
  {
   "cell_type": "markdown",
   "metadata": {},
   "source": [
    "**You may need to install [OpenCV](https://pypi.python.org/pypi/opencv-python) and [scikit-video](http://www.scikit-video.org/stable/).**"
   ]
  },
  {
   "cell_type": "code",
   "execution_count": 105,
   "metadata": {},
   "outputs": [],
   "source": [
    "import keras\n",
    "import numpy as np\n",
    "import io\n",
    "import base64\n",
    "from IPython.display import HTML\n",
    "import skvideo.io\n",
    "import cv2\n",
    "import json\n",
    "import random\n",
    "\n",
    "from keras.models import Sequential,model_from_json\n",
    "from keras.layers.core import Dense\n",
    "from keras.optimizers import sgd\n",
    "from keras.layers import Conv2D, MaxPooling2D, Activation, AveragePooling2D,Reshape,BatchNormalization, Flatten"
   ]
  },
  {
   "cell_type": "markdown",
   "metadata": {},
   "source": [
    "# MiniProject #3: Deep Reinforcement Learning"
   ]
  },
  {
   "cell_type": "markdown",
   "metadata": {},
   "source": [
    "__Notations__: $E_p$ is the expectation under probability $p$. Please justify each of your answer and widely comment your code."
   ]
  },
  {
   "cell_type": "markdown",
   "metadata": {},
   "source": [
    "# Context"
   ]
  },
  {
   "cell_type": "markdown",
   "metadata": {},
   "source": [
    "In a reinforcement learning algorithm, we modelize each step $t$ as an action $a_t$ obtained from a state $s_t$, i.e. $\\{(a_{t},s_{t})_{t\\leq T}\\}$ having the Markov property. We consider a discount factor $\\gamma \\in [0,1]$ that ensures convergence. The goal is to find among all the policies $\\pi$, one that maximizes the expected reward:\n",
    "\n",
    "\\begin{equation*}\n",
    "R(\\pi)=\\sum_{t\\leq T}E_{p^{\\pi}}[\\gamma^t r(s_{t},a_{t})] \\> ,\n",
    "\\end{equation*}\n",
    "\n",
    "where: \n",
    "\\begin{equation*}p^{\\pi}(a_{0},a_{1},s_{1},...,a_{T},s_{T})=p(a_{0})\\prod_{t=1}^{T}\\pi(a_{t}|s_{t})p(s_{t+1}|s_{t},a_{t}) \\> .\n",
    "\\end{equation*}\n",
    "\n",
    "We note the $Q$-function:\n",
    "\n",
    "\\begin{equation*}Q^\\pi(s,a)=E_{p^{\\pi}}[\\sum_{t\\leq T}\\gamma^{t}r(s_{t},a_{t})|s_{0}=s,a_{0}=a] \\> .\n",
    "\\end{equation*}\n",
    "\n",
    "Thus, the optimal Q function is:\n",
    "\\begin{equation*}\n",
    "Q^*(s,a)=\\max_{\\pi}Q^\\pi(s,a) \\> .\n",
    "\\end{equation*}\n",
    "\n",
    "In this project, we will apply the deep reinforcement learning techniques to a simple game: an agent will have to learn from scratch a policy that will permit it maximizing a reward."
   ]
  },
  {
   "cell_type": "markdown",
   "metadata": {},
   "source": [
    "## The environment, the agent and the game"
   ]
  },
  {
   "cell_type": "markdown",
   "metadata": {},
   "source": [
    "### The environment"
   ]
  },
  {
   "cell_type": "markdown",
   "metadata": {},
   "source": [
    "```Environment``` is an abstract class that represents the states, rewards, and actions to obtain the new state."
   ]
  },
  {
   "cell_type": "code",
   "execution_count": 106,
   "metadata": {},
   "outputs": [],
   "source": [
    "class Environment(object):\n",
    "    def __init__(self):\n",
    "        pass\n",
    "\n",
    "    def act(self, act):\n",
    "        \"\"\"\n",
    "        One can act on the environment and obtain its reaction:\n",
    "        - the new state\n",
    "        - the reward of the new state\n",
    "        - should we continue the game?\n",
    "\n",
    "        :return: state, reward, game_over\n",
    "        \"\"\"\n",
    "        pass\n",
    "\n",
    "\n",
    "    def reset(self):\n",
    "        \"\"\"\n",
    "        Reinitialize the environment to a random state and returns\n",
    "        the original state\n",
    "\n",
    "        :return: state\n",
    "        \"\"\"\n",
    "        pass\n",
    "    \n",
    "    def draw(self):\n",
    "        \"\"\"\n",
    "        Visualize in the console or graphically the current state\n",
    "        \"\"\"\n",
    "        pass"
   ]
  },
  {
   "cell_type": "markdown",
   "metadata": {},
   "source": [
    "The method ```act``` allows to act on the environment at a given state $s_t$ (stored internally), via action $a_t$. The method will return the new state $s_{t+1}$, the reward $r(s_{t},a_{t})$ and determines if $t\\leq T$ (*game_over*).\n",
    "\n",
    "The method ```reset``` simply reinitializes the environment to a random state $s_0$.\n",
    "\n",
    "The method ```draw``` displays the current state $s_t$ (this is useful to check the behavior of the Agent).\n",
    "\n",
    "We modelize $s_t$ as a tensor, while $a_t$ is an integer."
   ]
  },
  {
   "cell_type": "markdown",
   "metadata": {},
   "source": [
    "### The Agent"
   ]
  },
  {
   "cell_type": "markdown",
   "metadata": {},
   "source": [
    "The goal of the ```Agent``` is to interact with the ```Environment``` by proposing actions $a_t$ obtained from a given state $s_t$ to attempt to maximize its __reward__ $r(s_t,a_t)$. We propose the following abstract class:"
   ]
  },
  {
   "cell_type": "code",
   "execution_count": 107,
   "metadata": {},
   "outputs": [],
   "source": [
    "class Agent(object):\n",
    "    def __init__(self, epsilon=0.1, n_action=4):\n",
    "        self.epsilon = epsilon\n",
    "        self.n_action = n_action\n",
    "    \n",
    "    def set_epsilon(self,e):\n",
    "        self.epsilon = e\n",
    "\n",
    "    def act(self,s,train=True):\n",
    "        \"\"\" This function should return the next action to do:\n",
    "        an integer between 0 and 4 (not included) with a random exploration of epsilon\"\"\"\n",
    "        if train:\n",
    "            if np.random.rand() < self.epsilon:\n",
    "                a = np.random.randint(0, self.n_action)\n",
    "            else:\n",
    "                a = self.learned_act(s)\n",
    "        else: # in some cases, this can improve the performance.. remove it if poor performances\n",
    "            a = self.learned_act(s)\n",
    "\n",
    "        return a\n",
    "\n",
    "    def learned_act(self,s):\n",
    "        \"\"\" Act via the policy of the agent, from a given state s\n",
    "        it proposes an action a\"\"\"\n",
    "        pass\n",
    "\n",
    "    def reinforce(self, s, n_s, a, r, game_over_):\n",
    "        \"\"\" This function is the core of the learning algorithm. \n",
    "        It takes as an input the current state s_, the next state n_s_\n",
    "        the action a_ used to move from s_ to n_s_ and the reward r_.\n",
    "        \n",
    "        Its goal is to learn a policy.\n",
    "        \"\"\"\n",
    "        pass\n",
    "\n",
    "    def save(self):\n",
    "        \"\"\" This function returns basic stats if applicable: the\n",
    "        loss and/or the model\"\"\"\n",
    "        pass\n",
    "\n",
    "    def load(self):\n",
    "        \"\"\" This function allows to restore a model\"\"\"\n",
    "        pass"
   ]
  },
  {
   "cell_type": "markdown",
   "metadata": {},
   "source": [
    "***\n",
    "__Question 1__:\n",
    "Explain the function act. Why is ```epsilon``` essential?"
   ]
  },
  {
   "cell_type": "markdown",
   "metadata": {},
   "source": [
    "The parametter $\\epsilon$ allows to make random actions (with probability $\\epsilon$) and hence allows the agent to discover its environment. The function act chooses the learned action with probability $(1-\\epsilon)$ and makes a random choice otherwise."
   ]
  },
  {
   "cell_type": "markdown",
   "metadata": {},
   "source": [
    "***\n",
    "### The Game"
   ]
  },
  {
   "cell_type": "markdown",
   "metadata": {},
   "source": [
    "The ```Agent``` and the ```Environment``` work in an interlaced way as in the following (take some time to understand this code as it is the core of the project)\n",
    "\n",
    "```python\n",
    "\n",
    "epoch = 300\n",
    "env = Environment()\n",
    "agent = Agent()\n",
    "\n",
    "\n",
    "# Number of won games\n",
    "score = 0\n",
    "loss = 0\n",
    "\n",
    "\n",
    "for e in range(epoch):\n",
    "    # At each epoch, we restart to a fresh game and get the initial state\n",
    "    state = env.reset()\n",
    "    # This assumes that the games will end\n",
    "    game_over = False\n",
    "\n",
    "    win = 0\n",
    "    lose = 0\n",
    "    \n",
    "    while not game_over:\n",
    "        # The agent performs an action\n",
    "        action = agent.act(state)\n",
    "\n",
    "        # Apply an action to the environment, get the next state, the reward\n",
    "        # and if the games end\n",
    "        prev_state = state\n",
    "        state, reward, game_over = env.act(action)\n",
    "\n",
    "        # Update the counters\n",
    "        if reward > 0:\n",
    "            win = win + reward\n",
    "        if reward < 0:\n",
    "            lose = lose -reward\n",
    "\n",
    "        # Apply the reinforcement strategy\n",
    "        loss = agent.reinforce(prev_state, state,  action, reward, game_over)\n",
    "\n",
    "    # Save as a mp4\n",
    "    if e % 10 == 0:\n",
    "        env.draw(e)\n",
    "\n",
    "    # Update stats\n",
    "    score += win-lose\n",
    "\n",
    "    print(\"Epoch {:03d}/{:03d} | Loss {:.4f} | Win/lose count {}/{} ({})\"\n",
    "          .format(e, epoch, loss, win, lose, win-lose))\n",
    "    agent.save()\n",
    "```"
   ]
  },
  {
   "cell_type": "markdown",
   "metadata": {},
   "source": [
    "# The game, *eat cheese*"
   ]
  },
  {
   "cell_type": "markdown",
   "metadata": {},
   "source": [
    "A rat runs on an island and tries to eat as much as possible. The island is subdivided into $N\\times N$ cells, in which there are cheese (+0.5) and poisonous cells (-1). The rat has a visibility of 2 cells (thus it can see $5^2$ cells). The rat is given a time $T$ to accumulate as much food as possible. It can perform 4 actions: going up, down, left, right. \n",
    "\n",
    "The goal is to code an agent to solve this task that will learn by trial and error. We propose the following environment:"
   ]
  },
  {
   "cell_type": "code",
   "execution_count": 108,
   "metadata": {},
   "outputs": [],
   "source": [
    "class Environment(object):\n",
    "    def __init__(self, grid_size=10, max_time=500, temperature=0.1):\n",
    "        grid_size = grid_size+4\n",
    "        self.grid_size = grid_size\n",
    "        self.max_time = max_time\n",
    "        self.temperature = temperature\n",
    "\n",
    "        #board on which one plays\n",
    "        self.board = np.zeros((grid_size,grid_size))\n",
    "        self.position = np.zeros((grid_size,grid_size))\n",
    "\n",
    "        # coordinate of the cat\n",
    "        self.x = 0\n",
    "        self.y = 1\n",
    "\n",
    "        # self time\n",
    "        self.t = 0\n",
    "\n",
    "        self.scale=16\n",
    "\n",
    "        self.to_draw = np.zeros((max_time+2, grid_size*self.scale, grid_size*self.scale, 3))\n",
    "\n",
    "\n",
    "    def draw(self,e):\n",
    "        skvideo.io.vwrite(str(e) + '.mp4', self.to_draw)\n",
    "\n",
    "    def get_frame(self,t):\n",
    "        b = np.zeros((self.grid_size,self.grid_size,3))+128\n",
    "        b[self.board>0,0] = 256\n",
    "        b[self.board < 0, 2] = 256\n",
    "        b[self.x,self.y,:]=256\n",
    "        b[-2:,:,:]=0\n",
    "        b[:,-2:,:]=0\n",
    "        b[:2,:,:]=0\n",
    "        b[:,:2,:]=0\n",
    "        \n",
    "        b =  cv2.resize(b, None, fx=self.scale, fy=self.scale, interpolation=cv2.INTER_NEAREST)\n",
    "\n",
    "        self.to_draw[t,:,:,:]=b\n",
    "\n",
    "\n",
    "    def act(self, action):\n",
    "        \"\"\"This function returns the new state, reward and decides if the\n",
    "        game ends.\"\"\"\n",
    "\n",
    "        self.get_frame(int(self.t))\n",
    "\n",
    "        self.position = np.zeros((self.grid_size, self.grid_size))\n",
    "\n",
    "        self.position[0:2,:]= -1\n",
    "        self.position[:,0:2] = -1\n",
    "        self.position[-2:, :] = -1\n",
    "        self.position[-2:, :] = -1\n",
    "\n",
    "        self.position[self.x, self.y] = 1\n",
    "        if action == 0:\n",
    "            if self.x == self.grid_size-3:\n",
    "                self.x = self.x-1\n",
    "            else:\n",
    "                self.x = self.x + 1\n",
    "        elif action == 1:\n",
    "            if self.x == 2:\n",
    "                self.x = self.x+1\n",
    "            else:\n",
    "                self.x = self.x-1\n",
    "        elif action == 2:\n",
    "            if self.y == self.grid_size - 3:\n",
    "                self.y = self.y - 1\n",
    "            else:\n",
    "                self.y = self.y + 1\n",
    "        elif action == 3:\n",
    "            if self.y == 2:\n",
    "                self.y = self.y + 1\n",
    "            else:\n",
    "                self.y = self.y - 1\n",
    "        else:\n",
    "            RuntimeError('Error: action not recognized')\n",
    "\n",
    "        self.t = self.t + 1\n",
    "        reward = self.board[self.x, self.y]\n",
    "        self.board[self.x, self.y] = 0\n",
    "        game_over = self.t > self.max_time\n",
    "        state = np.concatenate((self.board.reshape(self.grid_size, self.grid_size,1),\n",
    "                        self.position.reshape(self.grid_size, self.grid_size,1)),axis=2)\n",
    "        state = state[self.x-2:self.x+3,self.y-2:self.y+3,:]\n",
    "\n",
    "        return state, reward, game_over\n",
    "\n",
    "    def reset(self):\n",
    "        \"\"\"This function resets the game and returns the initial state\"\"\"\n",
    "\n",
    "        self.x = np.random.randint(3, self.grid_size-3, size=1)[0]\n",
    "        self.y = np.random.randint(3, self.grid_size-3, size=1)[0]\n",
    "\n",
    "\n",
    "        bonus = 0.5*np.random.binomial(1,self.temperature,size=self.grid_size**2)\n",
    "        bonus = bonus.reshape(self.grid_size,self.grid_size)\n",
    "\n",
    "        malus = -1.0*np.random.binomial(1,self.temperature,size=self.grid_size**2)\n",
    "        malus = malus.reshape(self.grid_size, self.grid_size)\n",
    "\n",
    "        self.to_draw = np.zeros((self.max_time+2, self.grid_size*self.scale, self.grid_size*self.scale, 3))\n",
    "\n",
    "\n",
    "        malus[bonus>0]=0\n",
    "\n",
    "        self.board = bonus + malus\n",
    "\n",
    "        self.position = np.zeros((self.grid_size, self.grid_size))\n",
    "        self.position[0:2,:]= -1\n",
    "        self.position[:,0:2] = -1\n",
    "        self.position[-2:, :] = -1\n",
    "        self.position[-2:, :] = -1\n",
    "        self.board[self.x,self.y] = 0\n",
    "        self.t = 0\n",
    "\n",
    "        state = np.concatenate((\n",
    "                               self.board.reshape(self.grid_size, self.grid_size,1),\n",
    "                        self.position.reshape(self.grid_size, self.grid_size,1)),axis=2)\n",
    "\n",
    "        state = state[self.x - 2:self.x + 3, self.y - 2:self.y + 3, :]\n",
    "        return state"
   ]
  },
  {
   "cell_type": "markdown",
   "metadata": {},
   "source": [
    "The following elements are important because they correspond to the hyper parameters for this project:"
   ]
  },
  {
   "cell_type": "code",
   "execution_count": 117,
   "metadata": {},
   "outputs": [],
   "source": [
    "# parameters\n",
    "size = 13\n",
    "T=200\n",
    "temperature=0.3\n",
    "epochs_train=30 # set small when debugging\n",
    "epochs_test=20 # set small when debugging\n",
    "\n",
    "# display videos\n",
    "def display_videos(name):\n",
    "    video = io.open(name, 'r+b').read()\n",
    "    encoded = base64.b64encode(video)\n",
    "    return '''<video alt=\"test\" controls>\n",
    "                <source src=\"data:video/mp4;base64,{0}\" type=\"video/mp4\" />\n",
    "             </video>'''.format(encoded.decode('ascii'))"
   ]
  },
  {
   "cell_type": "markdown",
   "metadata": {},
   "source": [
    "__Question 2__ Explain the use of the arrays ```position``` and ```board```."
   ]
  },
  {
   "cell_type": "markdown",
   "metadata": {},
   "source": [
    "```position``` allows the agent to know its previous position (every value on the grid is 0 except the previous position which is 1. Since the agent recieves a batch centered on its current position, there is no ambiguity on is current and previous position. ```board``` stores the cheeses and poisons on the grid. When an agent eats something, the value is removed from this grid."
   ]
  },
  {
   "cell_type": "markdown",
   "metadata": {},
   "source": [
    "## Random Agent"
   ]
  },
  {
   "cell_type": "markdown",
   "metadata": {},
   "source": [
    "***\n",
    "__Question 3__ Implement a random Agent (only ```learned_act``` needs to be implemented):"
   ]
  },
  {
   "cell_type": "code",
   "execution_count": 118,
   "metadata": {},
   "outputs": [],
   "source": [
    "class RandomAgent(Agent):\n",
    "    def __init__(self):\n",
    "        super(RandomAgent, self).__init__()\n",
    "        pass\n",
    "\n",
    "    def learned_act(self, s):\n",
    "        return np.random.randint(self.n_action)"
   ]
  },
  {
   "cell_type": "markdown",
   "metadata": {},
   "source": [
    "***\n",
    "***\n",
    "__Question 4__ Visualize the game moves. You need to fill in the following function for the evaluation:"
   ]
  },
  {
   "cell_type": "code",
   "execution_count": 119,
   "metadata": {},
   "outputs": [],
   "source": [
    "def test(agent,env,epochs,prefix=''):\n",
    "    # Number of won games\n",
    "    score = 0\n",
    "        \n",
    "    for e in range(epochs):\n",
    "        \n",
    "        ##### FILL IN HERE\n",
    "        # At each epoch, we restart to a fresh game and get the initial state\n",
    "        state = env.reset()\n",
    "        # This assumes that the games will end\n",
    "        game_over = False\n",
    "\n",
    "        win = 0\n",
    "        lose = 0\n",
    "    \n",
    "        while not game_over:\n",
    "            # The agent performs an action\n",
    "            action = agent.act(state, train=False)\n",
    "\n",
    "            # Apply an action to the environment, get the next state, the reward\n",
    "            # and if the games end\n",
    "            prev_state = state\n",
    "            state, reward, game_over = env.act(action)\n",
    "\n",
    "            # Update the counters\n",
    "            if reward > 0:\n",
    "                win = win + reward\n",
    "            if reward < 0:\n",
    "                lose = lose -reward\n",
    "\n",
    "        \n",
    "        # Save as a mp4\n",
    "        env.draw(prefix+str(e))\n",
    "\n",
    "        # Update stats\n",
    "        score = score + win-lose\n",
    "\n",
    "        print(\"Win/lose count {}/{}. Average score ({})\"\n",
    "              .format(win, lose, score/(1+e)))\n",
    "    print('Final score: '+str(score/epochs))"
   ]
  },
  {
   "cell_type": "code",
   "execution_count": 120,
   "metadata": {},
   "outputs": [
    {
     "name": "stdout",
     "output_type": "stream",
     "text": [
      "Win/lose count 7.5/11.0. Average score (-3.5)\n",
      "Win/lose count 10.0/18.0. Average score (-5.75)\n",
      "Win/lose count 11.0/15.0. Average score (-5.166666666666667)\n",
      "Win/lose count 9.0/7.0. Average score (-3.375)\n",
      "Win/lose count 8.0/9.0. Average score (-2.9)\n",
      "Win/lose count 7.0/11.0. Average score (-3.0833333333333335)\n",
      "Win/lose count 11.5/14.0. Average score (-3.0)\n",
      "Win/lose count 12.5/14.0. Average score (-2.8125)\n",
      "Win/lose count 10.5/8.0. Average score (-2.2222222222222223)\n",
      "Win/lose count 10.5/9.0. Average score (-1.85)\n",
      "Win/lose count 9.5/28.0. Average score (-3.3636363636363638)\n",
      "Win/lose count 10.0/17.0. Average score (-3.6666666666666665)\n",
      "Win/lose count 14.5/17.0. Average score (-3.576923076923077)\n",
      "Win/lose count 8.0/14.0. Average score (-3.75)\n",
      "Win/lose count 7.5/22.0. Average score (-4.466666666666667)\n",
      "Win/lose count 8.5/6.0. Average score (-4.03125)\n",
      "Win/lose count 8.0/13.0. Average score (-4.088235294117647)\n",
      "Win/lose count 12.0/16.0. Average score (-4.083333333333333)\n",
      "Win/lose count 8.0/12.0. Average score (-4.078947368421052)\n",
      "Win/lose count 10.0/14.0. Average score (-4.075)\n",
      "Final score: -4.075\n"
     ]
    },
    {
     "data": {
      "text/html": [
       "<video alt=\"test\" controls>\n",
       "                <source src=\"data:video/mp4;base64,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\" type=\"video/mp4\" />\n",
       "             </video>"
      ],
      "text/plain": [
       "<IPython.core.display.HTML object>"
      ]
     },
     "execution_count": 120,
     "metadata": {},
     "output_type": "execute_result"
    }
   ],
   "source": [
    "# Initialize the game\n",
    "env = Environment(grid_size=size, max_time=T,temperature=temperature)\n",
    "\n",
    "# Initialize the agent!\n",
    "agent = RandomAgent()\n",
    "\n",
    "test(agent,env,epochs_test,prefix='random')\n",
    "HTML(display_videos('random0.mp4'))"
   ]
  },
  {
   "cell_type": "markdown",
   "metadata": {},
   "source": [
    "***\n",
    "## DQN"
   ]
  },
  {
   "cell_type": "markdown",
   "metadata": {},
   "source": [
    "Let us assume here that $T=\\infty$.\n",
    "\n",
    "***\n",
    "__Question 5__ Let $\\pi$ be a policy, show that:\n",
    "\n",
    "\\begin{equation*}\n",
    "Q^{\\pi}(s,a)=E_{(s',a')\\sim p(.|s,a)}[r(s,a)+\\gamma Q^{\\pi}(s',a')]\n",
    "\\end{equation*}\n",
    "\n",
    "Then, show that for the optimal policy $\\pi^*$ (we assume its existence), the following holds: \n",
    "\n",
    "\\begin{equation*}\n",
    "Q^{*}(s,a)=E_{s'\\sim \\pi^*(.|s,a)}[r(s,a)+\\gamma\\max_{a'}Q^{*}(s',a')].\n",
    "\\end{equation*}\n",
    "Finally, deduce that a plausible objective is:\n",
    "\n",
    "\\begin{equation*}\n",
    "\\mathcal{L}(\\theta)=E_{s' \\sim \\pi^*(.|s,a)}\\Vert r+\\gamma\\max\\max_{a'}Q(s',a',\\theta)-Q(s,a,\\theta)\\Vert^{2}.\n",
    "\\end{equation*}\n",
    "\n",
    "\n"
   ]
  },
  {
   "cell_type": "markdown",
   "metadata": {},
   "source": []
  },
  {
   "cell_type": "markdown",
   "metadata": {},
   "source": [
    "***\n",
    "The DQN-learning algorithm relies on these derivations to train the parameters $\\theta$ of a Deep Neural Network:\n",
    "\n",
    "1. At the state $s_t$, select the action $a_t$ with best reward using $Q_t$ and store the results;\n",
    "\n",
    "2. Obtain the new state $s_{t+1}$ from the environment $p$;\n",
    "\n",
    "3. Store $(s_t,a_t,s_{t+1})$;\n",
    "\n",
    "4. Obtain $Q_{t+1}$ by minimizing  $\\mathcal{L}$ from a recovered batch from the previously stored results.\n",
    "\n",
    "***\n",
    "__Question 6__ Implement the class ```Memory``` that stores moves (in a replay buffer) via ```remember``` and provides a ```random_access``` to these. Specify a maximum memory size to avoid side effects. You can for example use a ```list()``` and set by default ```max_memory=100```."
   ]
  },
  {
   "cell_type": "code",
   "execution_count": 121,
   "metadata": {},
   "outputs": [],
   "source": [
    "class Memory(object):\n",
    "    def __init__(self, max_memory=100):\n",
    "        self.max_memory = max_memory\n",
    "        self.memory = list()\n",
    "\n",
    "    def remember(self, m):\n",
    "        if len(self.memory)>self.max_memory-1:\n",
    "            self.memory.pop(0)#random.randint(0,len(self.memory)-1))\n",
    "        self.memory.append(m)\n",
    "\n",
    "    def random_access(self):\n",
    "        return random.choice(self.memory)"
   ]
  },
  {
   "cell_type": "markdown",
   "metadata": {},
   "source": [
    "***\n",
    "The pipeline we will use for training is given below:"
   ]
  },
  {
   "cell_type": "code",
   "execution_count": 122,
   "metadata": {},
   "outputs": [],
   "source": [
    "def train(agent,env,epoch,prefix=''):\n",
    "    # Number of won games\n",
    "    score = 0\n",
    "    loss = 0\n",
    "\n",
    "    for e in range(epoch):\n",
    "        # At each epoch, we restart to a fresh game and get the initial state\n",
    "        state = env.reset()\n",
    "        # This assumes that the games will terminate\n",
    "        game_over = False\n",
    "\n",
    "        win = 0\n",
    "        lose = 0\n",
    "\n",
    "        while not game_over:\n",
    "            # The agent performs an action\n",
    "            action = agent.act(state, train=True)\n",
    "\n",
    "            # Apply an action to the environment, get the next state, the reward\n",
    "            # and if the games end\n",
    "            prev_state = state\n",
    "            state, reward, game_over = env.act(action)\n",
    "\n",
    "            # Update the counters\n",
    "            if reward > 0:\n",
    "                win = win + reward\n",
    "            if reward < 0:\n",
    "                lose = lose -reward\n",
    "\n",
    "            # Apply the reinforcement strategy\n",
    "            loss = agent.reinforce(prev_state, state,  action, reward, game_over)\n",
    "\n",
    "        # Save as a mp4\n",
    "        if e % 10 == 0:\n",
    "            env.draw(prefix+str(e))\n",
    "\n",
    "        # Update stats\n",
    "        score += win-lose\n",
    "\n",
    "        print(\"Epoch {:03d}/{:03d} | Loss {:.4f} | Win/lose count {}/{} ({})\"\n",
    "              .format(e, epoch, loss, win, lose, win-lose))\n",
    "        agent.save(name_weights=prefix+'model.h5',name_model=prefix+'model.json')"
   ]
  },
  {
   "cell_type": "markdown",
   "metadata": {},
   "source": [
    "***\n",
    "__Question 7__ Implement the DQN training algorithm using a cascade of fully connected layers. You can use different learning rate, batch size or memory size parameters. In particular, the loss might oscillate while the player will start to win the games. You have to find a good criterium."
   ]
  },
  {
   "cell_type": "code",
   "execution_count": 123,
   "metadata": {},
   "outputs": [],
   "source": [
    "class DQN(Agent):\n",
    "    def __init__(self, grid_size,  epsilon = 0.1, memory_size=100, batch_size = 16,n_state=2):\n",
    "        super(DQN, self).__init__(epsilon = epsilon)\n",
    "\n",
    "        # Discount for Q learning\n",
    "        self.discount = 0.99\n",
    "        \n",
    "        self.grid_size = grid_size\n",
    "        \n",
    "        # number of state\n",
    "        self.n_state = n_state\n",
    "\n",
    "        # Memory\n",
    "        self.memory = Memory(memory_size)\n",
    "        \n",
    "        # Batch size when learning\n",
    "        self.batch_size = batch_size\n",
    "\n",
    "    def learned_act(self, s):\n",
    "        learned_q = self.model.predict(s.reshape(1, 5, 5, self.n_state))\n",
    "        return np.argmax(learned_q[0])\n",
    "\n",
    "    def reinforce(self, s_, n_s_, a_, r_, game_over_):\n",
    "        # Two steps: first memorize the states, second learn from the pool\n",
    "\n",
    "        self.memory.remember([s_, n_s_, a_, r_, game_over_])\n",
    "        \n",
    "        input_states = np.zeros((self.batch_size, 5,5,self.n_state))\n",
    "        target_q = np.zeros((self.batch_size, 4))\n",
    "        \n",
    "        for i in range(self.batch_size):\n",
    "            ######## FILL IN\n",
    "            [s_, n_s_, a_, r_, game_over_] = self.memory.random_access()\n",
    "            if game_over_:\n",
    "                learned_q = self.model.predict(s_.reshape(1, 5, 5, self.n_state))\n",
    "                input_states[i,:,:,:] = s_.reshape(1, 5, 5, self.n_state)\n",
    "                target_q[i] = learned_q[:]\n",
    "            else:\n",
    "                learned_q = self.model.predict(s_.reshape(1, 5, 5, self.n_state))\n",
    "                input_states[i,:,:,:] = s_.reshape(1, 5, 5, self.n_state)\n",
    "                target_q[i] = learned_q[:]\n",
    "                new_learned_q = self.model.predict(n_s_.reshape(1, 5, 5, self.n_state))\n",
    "                target_q[i, a_] = r_ + self.discount*np.max(new_learned_q[:])\n",
    "        ######## FILL IN\n",
    "        # HINT: Clip the target to avoid exploiding gradients.. -- clipping is a bit tighter\n",
    "        target_q = np.clip(target_q, -3, 3)\n",
    "\n",
    "        l = self.model.train_on_batch(input_states, target_q)\n",
    "\n",
    "\n",
    "        return l\n",
    "\n",
    "    def save(self,name_weights='model.h5',name_model='model.json'):\n",
    "        self.model.save_weights(name_weights, overwrite=True)\n",
    "        with open(name_model, \"w\") as outfile:\n",
    "            json.dump(self.model.to_json(), outfile)\n",
    "            \n",
    "    def load(self,name_weights='model.h5',name_model='model.json'):\n",
    "        with open(name_model, \"r\") as jfile:\n",
    "            model = model_from_json(json.load(jfile))\n",
    "        model.load_weights(name_weights)\n",
    "        model.compile(\"sgd\", \"mse\")\n",
    "        self.model = model\n",
    "\n",
    "            \n",
    "class DQN_FC(DQN):\n",
    "    def __init__(self, *args, lr=0.1,**kwargs):\n",
    "        super(DQN_FC, self).__init__( *args,**kwargs)\n",
    "        \n",
    "        # NN Model\n",
    "        \n",
    "        model = Sequential()\n",
    "        model.add(Reshape((5*5*self.n_state,)))\n",
    "        model.add(Dense(20, activation='relu'))\n",
    "        model.add(Dense(20, activation='relu'))\n",
    "        model.add(Dense(4))\n",
    "        \n",
    "        model.compile(sgd(lr=lr, decay=1e-4, momentum=0.0), \"mse\")\n",
    "        self.model = model\n",
    "        "
   ]
  },
  {
   "cell_type": "code",
   "execution_count": 124,
   "metadata": {},
   "outputs": [
    {
     "name": "stdout",
     "output_type": "stream",
     "text": [
      "Epoch 000/030 | Loss 0.0204 | Win/lose count 7.0/8.0 (-1.0)\n",
      "Epoch 001/030 | Loss 0.0170 | Win/lose count 0/4.0 (-4.0)\n",
      "Epoch 002/030 | Loss 0.0068 | Win/lose count 5.0/2.0 (3.0)\n",
      "Epoch 003/030 | Loss 0.0462 | Win/lose count 2.0/8.0 (-6.0)\n",
      "Epoch 004/030 | Loss 0.0193 | Win/lose count 3.0/5.0 (-2.0)\n",
      "Epoch 005/030 | Loss 0.0217 | Win/lose count 4.5/6.0 (-1.5)\n",
      "Epoch 006/030 | Loss 0.0337 | Win/lose count 1.5/6.0 (-4.5)\n",
      "Epoch 007/030 | Loss 0.0107 | Win/lose count 3.5/3.0 (0.5)\n",
      "Epoch 008/030 | Loss 0.0121 | Win/lose count 2.5/4.0 (-1.5)\n",
      "Epoch 009/030 | Loss 0.0058 | Win/lose count 2.0/7.0 (-5.0)\n",
      "Epoch 010/030 | Loss 0.0351 | Win/lose count 2.5/3.0 (-0.5)\n",
      "Epoch 011/030 | Loss 0.0065 | Win/lose count 2.0/5.0 (-3.0)\n",
      "Epoch 012/030 | Loss 0.0067 | Win/lose count 3.5/7.0 (-3.5)\n",
      "Epoch 013/030 | Loss 0.0093 | Win/lose count 0.5/3.0 (-2.5)\n",
      "Epoch 014/030 | Loss 0.0326 | Win/lose count 4.5/3.0 (1.5)\n",
      "Epoch 015/030 | Loss 0.0162 | Win/lose count 4.0/3.0 (1.0)\n",
      "Epoch 016/030 | Loss 0.0203 | Win/lose count 3.0/7.0 (-4.0)\n",
      "Epoch 017/030 | Loss 0.0075 | Win/lose count 3.5/4.0 (-0.5)\n",
      "Epoch 018/030 | Loss 0.0123 | Win/lose count 2.0/7.0 (-5.0)\n",
      "Epoch 019/030 | Loss 0.0126 | Win/lose count 3.0/8.0 (-5.0)\n",
      "Epoch 020/030 | Loss 0.0032 | Win/lose count 4.5/3.0 (1.5)\n",
      "Epoch 021/030 | Loss 0.0048 | Win/lose count 5.0/2.0 (3.0)\n",
      "Epoch 022/030 | Loss 0.0098 | Win/lose count 3.0/7.0 (-4.0)\n",
      "Epoch 023/030 | Loss 0.0320 | Win/lose count 2.0/3.0 (-1.0)\n",
      "Epoch 024/030 | Loss 0.0221 | Win/lose count 6.0/3.0 (3.0)\n",
      "Epoch 025/030 | Loss 0.0197 | Win/lose count 8.5/8.0 (0.5)\n",
      "Epoch 026/030 | Loss 0.0271 | Win/lose count 3.0/6.0 (-3.0)\n",
      "Epoch 027/030 | Loss 0.0112 | Win/lose count 5.0/6.0 (-1.0)\n",
      "Epoch 028/030 | Loss 0.0222 | Win/lose count 5.5/7.0 (-1.5)\n",
      "Epoch 029/030 | Loss 0.0080 | Win/lose count 0.5/2.0 (-1.5)\n"
     ]
    }
   ],
   "source": [
    "env = Environment(grid_size=size, max_time=T, temperature=temperature)\n",
    "agent = DQN_FC(size, lr=.01, epsilon = 0.1, memory_size=2000, batch_size = 32)\n",
    "train(agent, env, epochs_train, prefix='fc_train')"
   ]
  },
  {
   "cell_type": "code",
   "execution_count": 125,
   "metadata": {},
   "outputs": [
    {
     "data": {
      "text/html": [
       "<video alt=\"test\" controls>\n",
       "                <source src=\"data:video/mp4;base64,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\" type=\"video/mp4\" />\n",
       "             </video>"
      ],
      "text/plain": [
       "<IPython.core.display.HTML object>"
      ]
     },
     "execution_count": 125,
     "metadata": {},
     "output_type": "execute_result"
    }
   ],
   "source": [
    "HTML(display_videos('fc_train20.mp4'))"
   ]
  },
  {
   "cell_type": "markdown",
   "metadata": {},
   "source": [
    "***\n",
    "***\n",
    "__Question 8__ Implement the DQN training algorithm using a CNN (for example, 2 convolutional layers and one final fully connected layer)."
   ]
  },
  {
   "cell_type": "code",
   "execution_count": 126,
   "metadata": {},
   "outputs": [],
   "source": [
    "class DQN_CNN(DQN):\n",
    "    def __init__(self, *args,lr=0.1,**kwargs):\n",
    "        super(DQN_CNN, self).__init__(*args,**kwargs)\n",
    "        \n",
    "        ###### FILL IN\n",
    "        model=Sequential()\n",
    "        model.add((Conv2D(8, (3, 3), activation='relu', input_shape=(5, 5, self.n_state))))\n",
    "        model.add(Conv2D(16, (3, 3), activation='relu'))\n",
    "        model.add(Flatten())\n",
    "        model.add(Dense(4))\n",
    "        \n",
    "        model.compile(sgd(lr=lr, decay=1e-4, momentum=0.0), \"mse\")\n",
    "        self.model = model"
   ]
  },
  {
   "cell_type": "code",
   "execution_count": 127,
   "metadata": {},
   "outputs": [
    {
     "name": "stdout",
     "output_type": "stream",
     "text": [
      "Epoch 000/030 | Loss 0.0121 | Win/lose count 8.5/6.0 (2.5)\n",
      "Epoch 001/030 | Loss 0.0125 | Win/lose count 10.0/12.0 (-2.0)\n",
      "Epoch 002/030 | Loss 0.0205 | Win/lose count 5.5/7.0 (-1.5)\n",
      "Epoch 003/030 | Loss 0.0225 | Win/lose count 7.5/4.0 (3.5)\n",
      "Epoch 004/030 | Loss 0.0161 | Win/lose count 9.5/9.0 (0.5)\n",
      "Epoch 005/030 | Loss 0.0145 | Win/lose count 11.0/10.0 (1.0)\n",
      "Epoch 006/030 | Loss 0.0122 | Win/lose count 19.0/17.0 (2.0)\n",
      "Epoch 007/030 | Loss 0.0157 | Win/lose count 11.0/9.0 (2.0)\n",
      "Epoch 008/030 | Loss 0.0159 | Win/lose count 15.5/8.0 (7.5)\n",
      "Epoch 009/030 | Loss 0.0052 | Win/lose count 4.0/5.0 (-1.0)\n",
      "Epoch 010/030 | Loss 0.0055 | Win/lose count 15.0/13.0 (2.0)\n",
      "Epoch 011/030 | Loss 0.0032 | Win/lose count 11.5/8.0 (3.5)\n",
      "Epoch 012/030 | Loss 0.0107 | Win/lose count 13.0/5.0 (8.0)\n",
      "Epoch 013/030 | Loss 0.0078 | Win/lose count 8.5/10.0 (-1.5)\n",
      "Epoch 014/030 | Loss 0.0043 | Win/lose count 11.0/10.0 (1.0)\n",
      "Epoch 015/030 | Loss 0.0096 | Win/lose count 19.5/6.0 (13.5)\n",
      "Epoch 016/030 | Loss 0.0105 | Win/lose count 14.0/11.0 (3.0)\n",
      "Epoch 017/030 | Loss 0.0041 | Win/lose count 4.5/4.0 (0.5)\n",
      "Epoch 018/030 | Loss 0.0067 | Win/lose count 5.0/10.0 (-5.0)\n",
      "Epoch 019/030 | Loss 0.0028 | Win/lose count 16.0/10.0 (6.0)\n",
      "Epoch 020/030 | Loss 0.0070 | Win/lose count 10.5/10.0 (0.5)\n",
      "Epoch 021/030 | Loss 0.0052 | Win/lose count 6.0/2.0 (4.0)\n",
      "Epoch 022/030 | Loss 0.0010 | Win/lose count 16.5/8.0 (8.5)\n",
      "Epoch 023/030 | Loss 0.0095 | Win/lose count 12.5/10.0 (2.5)\n",
      "Epoch 024/030 | Loss 0.0055 | Win/lose count 7.0/8.0 (-1.0)\n",
      "Epoch 025/030 | Loss 0.0037 | Win/lose count 10.5/5.0 (5.5)\n",
      "Epoch 026/030 | Loss 0.0077 | Win/lose count 6.5/10.0 (-3.5)\n",
      "Epoch 027/030 | Loss 0.0033 | Win/lose count 8.0/10.0 (-2.0)\n",
      "Epoch 028/030 | Loss 0.0048 | Win/lose count 9.0/8.0 (1.0)\n",
      "Epoch 029/030 | Loss 0.0047 | Win/lose count 7.5/6.0 (1.5)\n"
     ]
    }
   ],
   "source": [
    "env = Environment(grid_size=size, max_time=T, temperature=temperature)\n",
    "agent = DQN_CNN(size, lr=.05, epsilon = 0.5, memory_size=2000, batch_size = 32)\n",
    "train(agent,env,epochs_train,prefix='cnn_train')"
   ]
  },
  {
   "cell_type": "code",
   "execution_count": 128,
   "metadata": {},
   "outputs": [
    {
     "data": {
      "text/html": [
       "<video alt=\"test\" controls>\n",
       "                <source src=\"data:video/mp4;base64,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\" type=\"video/mp4\" />\n",
       "             </video>"
      ],
      "text/plain": [
       "<IPython.core.display.HTML object>"
      ]
     },
     "execution_count": 128,
     "metadata": {},
     "output_type": "execute_result"
    }
   ],
   "source": [
    "HTML(display_videos('cnn_train20.mp4'))"
   ]
  },
  {
   "cell_type": "markdown",
   "metadata": {},
   "source": [
    "***\n",
    "***\n",
    "__Question 9__ Test both algorithms and compare their performances. Which issue(s) do you observe? Observe also different behaviors by changing the temperature."
   ]
  },
  {
   "cell_type": "code",
   "execution_count": 139,
   "metadata": {},
   "outputs": [
    {
     "name": "stdout",
     "output_type": "stream",
     "text": [
      "Test of the CNN\n",
      "Win/lose count 5.5/0. Average score (5.5)\n",
      "Win/lose count 5.5/0. Average score (5.5)\n",
      "Win/lose count 8.5/0. Average score (6.5)\n",
      "Win/lose count 8.5/1.0. Average score (6.75)\n",
      "Win/lose count 3.0/0. Average score (6.0)\n",
      "Win/lose count 1.0/0. Average score (5.166666666666667)\n",
      "Win/lose count 0.5/0. Average score (4.5)\n",
      "Win/lose count 3.5/0. Average score (4.375)\n",
      "Win/lose count 3.0/1.0. Average score (4.111111111111111)\n",
      "Win/lose count 1.0/0. Average score (3.8)\n",
      "Win/lose count 1.0/0. Average score (3.5454545454545454)\n",
      "Win/lose count 2.0/0. Average score (3.4166666666666665)\n",
      "Win/lose count 1.5/1.0. Average score (3.1923076923076925)\n",
      "Win/lose count 0.5/0. Average score (3.0)\n",
      "Win/lose count 5.5/0. Average score (3.1666666666666665)\n",
      "Win/lose count 2.5/0. Average score (3.125)\n",
      "Win/lose count 0/0. Average score (2.9411764705882355)\n",
      "Win/lose count 5.5/0. Average score (3.0833333333333335)\n",
      "Win/lose count 3.0/0. Average score (3.0789473684210527)\n",
      "Win/lose count 1.0/0. Average score (2.975)\n",
      "Final score: 2.975\n",
      "Test of the FC\n",
      "Win/lose count 0/1.0. Average score (-1.0)\n",
      "Win/lose count 1.0/1.0. Average score (-0.5)\n",
      "Win/lose count 0/0. Average score (-0.3333333333333333)\n",
      "Win/lose count 0.5/0. Average score (-0.125)\n",
      "Win/lose count 2.0/0. Average score (0.3)\n",
      "Win/lose count 0/0. Average score (0.25)\n",
      "Win/lose count 0.5/0. Average score (0.2857142857142857)\n",
      "Win/lose count 0/0. Average score (0.25)\n",
      "Win/lose count 0.5/0. Average score (0.2777777777777778)\n",
      "Win/lose count 0/0. Average score (0.25)\n",
      "Win/lose count 1.0/0. Average score (0.3181818181818182)\n",
      "Win/lose count 0.5/0. Average score (0.3333333333333333)\n",
      "Win/lose count 2.5/5.0. Average score (0.11538461538461539)\n",
      "Win/lose count 0/0. Average score (0.10714285714285714)\n",
      "Win/lose count 0.5/2.0. Average score (0.0)\n",
      "Win/lose count 1.5/3.0. Average score (-0.09375)\n",
      "Win/lose count 0/0. Average score (-0.08823529411764706)\n",
      "Win/lose count 1.5/0. Average score (0.0)\n",
      "Win/lose count 0.5/0. Average score (0.02631578947368421)\n",
      "Win/lose count 0/2.0. Average score (-0.075)\n",
      "Final score: -0.075\n"
     ]
    }
   ],
   "source": [
    "env = Environment(grid_size=size, max_time=T,temperature=0.3)\n",
    "agent_cnn = DQN_CNN(size, lr=.1, epsilon = 0.1, memory_size=2000, batch_size = 32)\n",
    "agent_cnn.load(name_weights='cnn_trainmodel.h5',name_model='cnn_trainmodel.json')\n",
    "\n",
    "agent_fc = DQN_FC(size, lr=.1, epsilon = 0.1, memory_size=2000, batch_size = 32)\n",
    "agent_fc.load(name_weights='fc_trainmodel.h5',name_model='fc_trainmodel.json')\n",
    "print('Test of the CNN')\n",
    "test(agent_cnn,env,epochs_test,prefix='cnn_test')\n",
    "print('Test of the FC')\n",
    "test(agent_fc,env,epochs_test,prefix='fc_test')"
   ]
  },
  {
   "cell_type": "code",
   "execution_count": 140,
   "metadata": {},
   "outputs": [
    {
     "data": {
      "text/html": [
       "<video alt=\"test\" controls>\n",
       "                <source src=\"data:video/mp4;base64,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\" type=\"video/mp4\" />\n",
       "             </video>"
      ],
      "text/plain": [
       "<IPython.core.display.HTML object>"
      ]
     },
     "execution_count": 140,
     "metadata": {},
     "output_type": "execute_result"
    }
   ],
   "source": [
    "HTML(display_videos('cnn_test10.mp4'))"
   ]
  },
  {
   "cell_type": "code",
   "execution_count": 141,
   "metadata": {},
   "outputs": [
    {
     "data": {
      "text/html": [
       "<video alt=\"test\" controls>\n",
       "                <source src=\"data:video/mp4;base64,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\" type=\"video/mp4\" />\n",
       "             </video>"
      ],
      "text/plain": [
       "<IPython.core.display.HTML object>"
      ]
     },
     "execution_count": 141,
     "metadata": {},
     "output_type": "execute_result"
    }
   ],
   "source": [
    "HTML(display_videos('fc_test10.mp4'))"
   ]
  },
  {
   "cell_type": "markdown",
   "metadata": {},
   "source": [
    "The main issue is that both the CNN and the FCN tend to not explore and oscilate around a position. With a higher temperature, since the number of positive rewards is higher, the results are better but the same problems remain. However, the CNN performs better."
   ]
  },
  {
   "cell_type": "markdown",
   "metadata": {},
   "source": [
    "***\n",
    "\n",
    "The algorithm tends to not explore the map which can be an issue. We propose two ideas in order to encourage exploration:\n",
    "1. Incorporating a decreasing $\\epsilon$-greedy exploration. You can use the method ```set_epsilon```\n",
    "2. Append via the environment a new state that describes if a cell has been visited or not\n",
    "\n",
    "***\n",
    "__Question 10__ Design a new ```train_explore``` function and environment class ```EnvironmentExploring``` to tackle the issue of exploration.\n",
    "\n"
   ]
  },
  {
   "cell_type": "code",
   "execution_count": 142,
   "metadata": {},
   "outputs": [],
   "source": [
    "def train_explore(agent,env,epoch,prefix=''):\n",
    "    # Number of won games\n",
    "    score = 0\n",
    "    loss = 0\n",
    "\n",
    "    for e in range(epoch):\n",
    "        # At each epoch, we restart to a fresh game and get the initial state\n",
    "        state = env.reset()\n",
    "        # This assumes that the games will terminate\n",
    "        game_over = False\n",
    "        \n",
    "        #We use a dicreasing epsilon\n",
    "        agent.set_epsilon(1/(e+1))\n",
    "\n",
    "        win = 0\n",
    "        lose = 0\n",
    "\n",
    "        while not game_over:\n",
    "            # The agent performs an action\n",
    "            action = agent.act(state, train=True)\n",
    "\n",
    "            # Apply an action to the environment, get the next state, the reward\n",
    "            # and if the games end\n",
    "            prev_state = state\n",
    "            state, reward, game_over = env.act(action, train=True)\n",
    "\n",
    "            # Update the counters\n",
    "            if reward > 0:\n",
    "                win = win + reward\n",
    "            if reward < 0:\n",
    "                lose = lose -reward\n",
    "\n",
    "            # Apply the reinforcement strategy\n",
    "            loss = agent.reinforce(prev_state, state,  action, reward, game_over)\n",
    "\n",
    "        # Save as a mp4\n",
    "        if e % 10 == 0:\n",
    "            env.draw(prefix+str(e))\n",
    "\n",
    "        # Update stats\n",
    "        score += win-lose\n",
    "\n",
    "        print(\"Epoch {:03d}/{:03d} | Loss {:.4f} | Win/lose count {}/{} ({})\"\n",
    "              .format(e, epoch, loss, win, lose, win-lose))\n",
    "        agent.save(name_weights=prefix+'model.h5',name_model=prefix+'model.json')\n",
    "        \n",
    "#The penalty param that penalizes the agent for walking multiple times on the same case (the higher, the more penalized).\n",
    "penalty = 0.05      \n",
    "\n",
    "class EnvironmentExploring(object):\n",
    "    def __init__(self, grid_size=10, max_time=500, temperature=0.1):\n",
    "        grid_size = grid_size+4\n",
    "        self.grid_size = grid_size\n",
    "        self.max_time = max_time\n",
    "        self.temperature = temperature\n",
    "\n",
    "        #board on which one plays\n",
    "        self.board = np.zeros((grid_size,grid_size))\n",
    "        self.position = np.zeros((grid_size,grid_size))\n",
    "        self.malus_position = np.zeros((grid_size,grid_size))\n",
    "\n",
    "        # coordinate of the cat\n",
    "        self.x = 0\n",
    "        self.y = 1\n",
    "\n",
    "        # self time\n",
    "        self.t = 0\n",
    "\n",
    "        self.scale=16\n",
    "\n",
    "        self.to_draw = np.zeros((max_time+2, grid_size*self.scale, grid_size*self.scale, 3))\n",
    "\n",
    "\n",
    "    def draw(self,e):\n",
    "        skvideo.io.vwrite(str(e) + '.mp4', self.to_draw)\n",
    "\n",
    "    def get_frame(self,t):\n",
    "        b = np.zeros((self.grid_size,self.grid_size,3))+128\n",
    "        b[self.board>0,0] = 256\n",
    "        b[self.board < 0, 2] = 256\n",
    "        b[self.x,self.y,:]=256\n",
    "        b[-2:,:,:]=0\n",
    "        b[:,-2:,:]=0\n",
    "        b[:2,:,:]=0\n",
    "        b[:,:2,:]=0\n",
    "        \n",
    "        b =  cv2.resize(b, None, fx=self.scale, fy=self.scale, interpolation=cv2.INTER_NEAREST)\n",
    "\n",
    "        self.to_draw[t,:,:,:]=b\n",
    "\n",
    "\n",
    "    def act(self, action, train=False):\n",
    "        \"\"\"This function returns the new state, reward and decides if the\n",
    "        game ends.\"\"\"\n",
    "\n",
    "        self.get_frame(int(self.t))\n",
    "\n",
    "        self.position = np.zeros((self.grid_size, self.grid_size))\n",
    "\n",
    "        self.position[0:2,:]= -1\n",
    "        self.position[:,0:2] = -1\n",
    "        self.position[-2:, :] = -1\n",
    "        self.position[-2:, :] = -1\n",
    "\n",
    "        self.position[self.x, self.y] = 1\n",
    "        if action == 0:\n",
    "            if self.x == self.grid_size-3:\n",
    "                self.x = self.x-1\n",
    "            else:\n",
    "                self.x = self.x + 1\n",
    "        elif action == 1:\n",
    "            if self.x == 2:\n",
    "                self.x = self.x+1\n",
    "            else:\n",
    "                self.x = self.x-1\n",
    "        elif action == 2:\n",
    "            if self.y == self.grid_size - 3:\n",
    "                self.y = self.y - 1\n",
    "            else:\n",
    "                self.y = self.y + 1\n",
    "        elif action == 3:\n",
    "            if self.y == 2:\n",
    "                self.y = self.y + 1\n",
    "            else:\n",
    "                self.y = self.y - 1\n",
    "        else:\n",
    "            RuntimeError('Error: action not recognized')\n",
    "\n",
    "        self.t = self.t + 1\n",
    "        reward = 0\n",
    "        if train:\n",
    "            reward = -self.malus_position[self.x, self.y]\n",
    "            \n",
    "        #Here we increase the penalty (better results with increasing penalty rather than constant one)\n",
    "        self.malus_position[self.x, self.y] += penalty\n",
    "\n",
    "        reward = reward + self.board[self.x, self.y]\n",
    "        self.board[self.x, self.y] = 0\n",
    "        game_over = self.t > self.max_time\n",
    "        state = np.concatenate((self.malus_position.reshape(self.grid_size, self.grid_size,1),\n",
    "                                self.board.reshape(self.grid_size, self.grid_size,1),\n",
    "                        self.position.reshape(self.grid_size, self.grid_size,1)),axis=2)\n",
    "        state = state[self.x-2:self.x+3,self.y-2:self.y+3,:]\n",
    "\n",
    "        return state, reward, game_over\n",
    "\n",
    "    def reset(self):\n",
    "        \"\"\"This function resets the game and returns the initial state\"\"\"\n",
    "\n",
    "        self.x = np.random.randint(3, self.grid_size-3, size=1)[0]\n",
    "        self.y = np.random.randint(3, self.grid_size-3, size=1)[0]\n",
    "        self.malus_position = np.zeros((self.grid_size,self.grid_size))\n",
    "\n",
    "\n",
    "        bonus = 0.5*np.random.binomial(1,self.temperature,size=self.grid_size**2)\n",
    "        bonus = bonus.reshape(self.grid_size,self.grid_size)\n",
    "\n",
    "        malus = -1.0*np.random.binomial(1,self.temperature,size=self.grid_size**2)\n",
    "        malus = malus.reshape(self.grid_size, self.grid_size)\n",
    "\n",
    "        self.to_draw = np.zeros((self.max_time+2, self.grid_size*self.scale, self.grid_size*self.scale, 3))\n",
    "\n",
    "\n",
    "        malus[bonus>0]=0\n",
    "\n",
    "        self.board = bonus + malus\n",
    "\n",
    "        self.position = np.zeros((self.grid_size, self.grid_size))\n",
    "        self.position[0:2,:]= -1\n",
    "        self.position[:,0:2] = -1\n",
    "        self.position[-2:, :] = -1\n",
    "        self.position[-2:, :] = -1\n",
    "        self.board[self.x,self.y] = 0\n",
    "        self.t = 0\n",
    "\n",
    "        state = np.concatenate((self.malus_position.reshape(self.grid_size, self.grid_size,1),\n",
    "                                self.board.reshape(self.grid_size, self.grid_size,1),\n",
    "                        self.position.reshape(self.grid_size, self.grid_size,1)),axis=2)\n",
    "\n",
    "        state = state[self.x - 2:self.x + 3, self.y - 2:self.y + 3, :]\n",
    "        return state"
   ]
  },
  {
   "cell_type": "code",
   "execution_count": 143,
   "metadata": {},
   "outputs": [
    {
     "name": "stdout",
     "output_type": "stream",
     "text": [
      "Epoch 000/030 | Loss 0.0170 | Win/lose count 9.5/31.000000000000032 (-21.500000000000032)\n",
      "Epoch 001/030 | Loss 0.0328 | Win/lose count 4.5/36.05000000000002 (-31.55000000000002)\n",
      "Epoch 002/030 | Loss 0.0251 | Win/lose count 15.0/31.800000000000022 (-16.800000000000022)\n",
      "Epoch 003/030 | Loss 0.0242 | Win/lose count 10.5/62.3 (-51.8)\n",
      "Epoch 004/030 | Loss 0.0262 | Win/lose count 14.0/40.899999999999984 (-26.899999999999984)\n",
      "Epoch 005/030 | Loss 0.0145 | Win/lose count 16.0/25.20000000000004 (-9.200000000000038)\n",
      "Epoch 006/030 | Loss 0.0278 | Win/lose count 16.5/21.45000000000001 (-4.95000000000001)\n",
      "Epoch 007/030 | Loss 0.0335 | Win/lose count 14.0/17.200000000000014 (-3.2000000000000135)\n",
      "Epoch 008/030 | Loss 0.0187 | Win/lose count 21.0/13.050000000000002 (7.9499999999999975)\n",
      "Epoch 009/030 | Loss 0.0172 | Win/lose count 19.5/17.70000000000001 (1.79999999999999)\n",
      "Epoch 010/030 | Loss 0.0100 | Win/lose count 21.0/14.6 (6.4)\n",
      "Epoch 011/030 | Loss 0.0280 | Win/lose count 23.0/9.499999999999996 (13.500000000000004)\n",
      "Epoch 012/030 | Loss 0.0100 | Win/lose count 22.0/13.000000000000007 (8.999999999999993)\n",
      "Epoch 013/030 | Loss 0.0064 | Win/lose count 25.5/8.549999999999994 (16.950000000000006)\n",
      "Epoch 014/030 | Loss 0.0071 | Win/lose count 22.0/8.899999999999997 (13.100000000000003)\n",
      "Epoch 015/030 | Loss 0.0067 | Win/lose count 19.0/10.649999999999995 (8.350000000000005)\n",
      "Epoch 016/030 | Loss 0.0086 | Win/lose count 20.0/10.85000000000001 (9.14999999999999)\n",
      "Epoch 017/030 | Loss 0.0110 | Win/lose count 21.0/12.099999999999994 (8.900000000000006)\n",
      "Epoch 018/030 | Loss 0.0061 | Win/lose count 23.0/8.299999999999997 (14.700000000000003)\n",
      "Epoch 019/030 | Loss 0.0171 | Win/lose count 26.0/8.249999999999991 (17.750000000000007)\n",
      "Epoch 020/030 | Loss 0.0097 | Win/lose count 21.0/12.5 (8.5)\n",
      "Epoch 021/030 | Loss 0.0155 | Win/lose count 25.5/7.999999999999986 (17.500000000000014)\n",
      "Epoch 022/030 | Loss 0.0064 | Win/lose count 28.0/12.399999999999999 (15.600000000000001)\n",
      "Epoch 023/030 | Loss 0.0043 | Win/lose count 22.5/7.299999999999991 (15.20000000000001)\n",
      "Epoch 024/030 | Loss 0.0108 | Win/lose count 26.0/7.4999999999999885 (18.50000000000001)\n",
      "Epoch 025/030 | Loss 0.0096 | Win/lose count 22.5/7.949999999999993 (14.550000000000008)\n",
      "Epoch 026/030 | Loss 0.0083 | Win/lose count 20.0/12.199999999999996 (7.800000000000004)\n",
      "Epoch 027/030 | Loss 0.0087 | Win/lose count 25.5/8.299999999999994 (17.200000000000006)\n",
      "Epoch 028/030 | Loss 0.0071 | Win/lose count 24.5/8.299999999999997 (16.200000000000003)\n",
      "Epoch 029/030 | Loss 0.0210 | Win/lose count 21.5/16.1 (5.399999999999999)\n"
     ]
    },
    {
     "data": {
      "text/html": [
       "<video alt=\"test\" controls>\n",
       "                <source src=\"data:video/mp4;base64,AAAAIGZ0eXBpc29tAAACAGlzb21pc28yYXZjMW1wNDEAAAAIZnJlZQAAGUVtZGF0AAACnwYF//+b3EXpvebZSLeWLNgg2SPu73gyNjQgLSBjb3JlIDE1MiAtIEguMjY0L01QRUctNCBBVkMgY29kZWMgLSBDb3B5bGVmdCAyMDAzLTIwMTcgLSBodHRwOi8vd3d3LnZpZGVvbGFuLm9yZy94MjY0Lmh0bWwgLSBvcHRpb25zOiBjYWJhYz0xIHJlZj0zIGRlYmxvY2s9MTowOjAgYW5hbHlzZT0weDE6MHgxMTEgbWU9aGV4IHN1Ym1lPTcgcHN5PTEgcHN5X3JkPTEuMDA6MC4wMCBtaXhlZF9yZWY9MSBtZV9yYW5nZT0xNiBjaHJvbWFfbWU9MSB0cmVsbGlzPTEgOHg4ZGN0PTAgY3FtPTAgZGVhZHpvbmU9MjEsMTEgZmFzdF9wc2tpcD0xIGNocm9tYV9xcF9vZmZzZXQ9NCB0aHJlYWRzPTggbG9va2FoZWFkX3RocmVhZHM9MSBzbGljZWRfdGhyZWFkcz0wIG5yPTAgZGVjaW1hdGU9MSBpbnRlcmxhY2VkPTAgYmx1cmF5X2NvbXBhdD0wIGNvbnN0cmFpbmVkX2ludHJhPTAgYmZyYW1lcz0zIGJfcHlyYW1pZD0yIGJfYWRhcHQ9MSBiX2JpYXM9MCBkaXJlY3Q9MSB3ZWlnaHRiPTEgb3Blbl9nb3A9MCB3ZWlnaHRwPTIga2V5aW50PTI1MCBrZXlpbnRfbWluPTI1IHNjZW5lY3V0PTQwIGludHJhX3JlZnJlc2g9MCByY19sb29rYWhlYWQ9NDAgcmM9Y3JmIG1idHJlZT0xIGNyZj0yMy4wIHFjb21wPTAuNjAgcXBtaW49MCBxcG1heD02OSBxcHN0ZXA9NCBpcF9yYXRpbz0xLjQwIGFxPTE6MS4wMACAAAADF2WIhAAz//72hvgU2FMj/k+//CP/uR+3H1n64sZCCb61XkPRgDJfGv+ZRmGl6cnPLe0fr0zQBGc/GUvKWP7KPMuQjMjqQfApcBPvwKaTIoRUKfvKLWKspO1W7sqdubYbadG9ztH42GkwHcvn98Ez5SodbBX52d8tU2XLnB0mgtgBN4BUXEEfFyxpkPqSXBxFyDgi3QV93YvGyDa1f639Ck+xZAxfClmoCKsuGE7vMWYUNUah2wdLPqUOIYpzNpufjGGORxc9xV/dDaQVCdJtXihIH3n6dteH23LqQwDjZEYgLsPTyZUzlNbum+EjG5fAxlikqm6picykKhuh2PQ9TjXoRij6sDIfn/NTVgm1fvb9yaNT2EuI7byljyeA8anvNzklG4ZLFDxVhPwzjihaCsPoVDTN3ciV7MhjTG7td+84THsrXg/BfSGLk27tDWkwgiLeguYJJz+vDtuPi9aNABSdyXL6hMP623QOWdQG/M3HbDeG/I6+rnY6ka4kGbbqT1+Ot464gpCMuowEYvEPyqFtE4AC6nefeMucK6nAJhM5RQdSfovnnE8m9yHP/M7XGFkUt0cPvYAwmHGbvCRbhL/6wIKMpVjUZwK20hqWBbBHc4FFfcDXVVOrnYx4h7Yioddr0c7JQAJykvbnXrjQ79T7/4xe+F2p//HS0mKTKTfKSfKSeJDsNII1+a6kCxlg+WTmciVTHIcGn8ptOkZ5soPxAF601wDDHO+r0YN6JHAeVt68vw0JDjqOgexp0g86TGBLK3oUWUJfVIXiA5fa5gv/ondbEpKgVftCfpg7xQgAN4rpRkb/JEfhnHFmEANPgMM8A9i5RDxQ510wBnsj/w592eBwVpUVhqR1qY/I3vX3OB6dxMmwYDPTuzqNY+XVTGMQ+ZNJcZoAlasx0kVvP6Ogz0SzFHsRbMElXzIAfd3dz/Gg+3OjjOAo/2AUyohVASr0Q9QfWtXmKwmMVTneh4HEI3iVT7xMqUBKFHlN+oKCGsToa8b6siL1thUOCCdo4hUIWUDlgiswk83fYBmCgDXkQ21+AAtZAAAAFEGaIWxDf/6nhAAIqZ8c4XGzBepAAAAAF0GaQjwhkymEN//+p4QACKqDq8uQ58CBAAAAIkGaZknhDyZTAhn//p4QABdfeGucCm0t2XXj2Eex6Wim5YcAAAAUQZ6ERRE8L/8AA4qasn2dR07WXDMAAAAQAZ6jdEK/AAS3cd5Wyh8hgQAAAA8BnqVqQr8ABNdiPJgevrcAAAAbQZqnSahBaJlMCGf//p4QACOnCOfw58QOH+KBAAAAF0GayEnhClJlMCGf/p4QADcyGOfpf3OlAAAAGEGa6UnhDomUwIZ//p4QADh+uNvem+66UgAAABhBmwpJ4Q8mUwIZ//6eEABYeDHP0YECke8AAAAZQZsrSeEPJlMCG//+p4QAIqgCzbbPs+bSQAAAACJBm05J4Q8mUwIZ//6eEADYrE5VuIHl/6zAeNRy/mjfieGgAAAAEkGfbEURPCv/AC12H5WeGysnNQAAABABn41qQr8ALXg67h9s2k7xAAAAGUGbj0moQWiZTAhn//6eEAFG4Mc/hzm+s90AAAAYQZuwSeEKUmUwIb/+p4QAVH3U4/w+rbcrAAAAGEGb0UnhDomUwIb//qeEAFI+NOgrWZTXBwAAABpBm/RJ4Q8mUwIb//6nhABRwT/ify4Pq1c0gQAAABFBnhJFETwr/wBBdisEhK34JgAAAA4BnjNqQr8AQXZMVwJQmAAAABlBmjVJqEFomUwId//+qZYAKlpZWcVpyHuhAAAAHEGaWUnhClJlMCG//qeEAFa91Pu83OTwPBukMk4AAAAQQZ53RTRML/8AM4HoaQe7MQAAABABnpZ0Qr8ARXcd5Wyh6WGBAAAADwGemGpCvwAtfKB5MEY2gAAAABxBmptJqEFomUwU8O/+qZYAG+9pf1/VahZClz8PAAAADwGeumpCvwAtbbdKNIeKtQAAABFBmr9J4QpSZTAhv/6nhAABJwAAABNBnt1FNEwv/wAVDJbNTMsuQ0YNAAAAEAGe/HRCvwAcTieKTbJV6YAAAAAQAZ7+akK/ABxWYPJgevd2gAAAABJBmuNJqEFomUwIZ//+nhAABH0AAAAMQZ8BRREsL/8AALKAAAAAEAGfIHRCvwAcBQ3suq/gkMEAAAAPAZ8iakK/ABz+cNErnl5bAAAAGkGbJEmoQWyZTAhv//6nhAA19In+q3zH4j0hAAAAHUGbRknhClJlMFFSwz/+nhABPa91xHP6R19/S/8hAAAAEAGfZWpCvwBDXmiZE0rN90EAAAAYQZtnSeEOiZTAhn/+nhABP/idnW6BkhzNAAAAGUGbiEnhDyZTAhv//qeEAE/943+grWZTXDwAAAAaQZupSeEPJlMCG//+p4QATb6XQxOvZnwRX3oAAAAvQZvLSeEPJlMFETw3//6nhAC17eg3xCAH/8JUQWYv/8JMR+L//X/yw3RW7RV5C4kAAAAQAZ/qakK/AJLs8cr+3D6qQAAAAB5Bm+1J4Q8mUwU8N//+p4QBDB81TWbc146fCGc4V6QAAAAQAZ4MakK/ANy7cJuM+vTXTQAAAB1BmhFJ4Q8mUwIb//6nhAHb7B/ivO6Qa62QY+RQ8QAAABZBni9FETwv/wD3/d1P1xsqaaeRTN6BAAAAEAGeTnRCvwFa6Ac7Y40z6CAAAAAPAZ5QakK/AVFtulGkPEnVAAAAGUGaUkmoQWiZTAhv//6nhAD9+wevZnwRXQcAAAAbQZp1SeEKUmUwIZ/+nhAGN+I5+29R9Lm7T3HAAAAAEkGek0U0TCv/AT+x4EJGP26FgAAAAA4BnrRqQr8BP7Hrp+pULQAAABtBmrZJqEFomUwIb//+p4QBofH6Dt69mfAt6i4AAAAZQZrXSeEKUmUwIb/+p4QBkfRz7aQW6Dd3QQAAABlBmvhJ4Q6JlMCHf/6plgB6vaX87pCmERdxAAAAI0GbHEnhDyZTAhv//qeEA+uLxZigxCfMafmM77/0yoXYocqAAAAAFEGfOkURPC//AVtVo5rlHgUkuyFJAAAAEAGfWXRCvwDDyaET4sxRsHAAAAAQAZ9bakK/AdIfgXX9uHzBwQAAABhBm11JqEFomUwId//+qZYB9OvRkBbdAj8AAAAWQZthSeEKUmUwIb/+p4QBdPZj9HyTgAAAABNBn59FNEwv/wFRyW6ArkNOnTjgAAAAEAGfvnRCvwHF4szyvyU2TjkAAAAQAZ+gakK/AdGF70iaVmyLgAAAABJBm6VJqEFomUwIZ//+nhAABH0AAAAQQZ/DRREsL/8BUclufriJbQAAABABn+J0Qr8BxeLM8r8lNk45AAAAEAGf5GpCvwHRhe9ImlZsi4EAAAAaQZvnSahBbJlMFEwz//6eEA1/Ob7j0C2iWkEAAAAQAZ4GakK/AcYImab6SDiRcQAAABhBmghJ4QpSZTAhn/6eEAXT0F+z0x9X+l4AAAAYQZopSeEOiZTAhn/+nhADn+vv5EiPrCHTAAAAGEGaSknhDyZTAhn//p4QAl3xD+2Qx9YRbQAAABhBmmtJ4Q8mUwIZ//6eEAGJ9ffyJEfWEi4AAAAYQZqMSeEPJlMCGf/+nhAA+Xr7+RIj6wmzAAAAGEGarUnhDyZTAhn//p4QAKR7pvoqVmvhpwAAABhBms5J4Q8mUwIZ//6eEABp/X38iRH1hf8AAAAZQZrvSeEPJlMCG//+p4QAEW+On1HGhIdgQQAAAB1BmxFJ4Q8mUwURPDP//p4QAEVEOVbgvO19ffb2kAAAABABnzBqQr8ADoM8IeNDWWqAAAAAGUGbMknhDyZTAhv//qeEABuaRP9VvmPxO6EAAAAdQZtUSeEPJlMFETwz//6eEACjV7riOf0jr7+mHaAAAAAQAZ9zakK/ACKvNEyJpWc0wAAAABhBm3VJ4Q8mUwIZ//6eEACke6bGXJsq320AAAAYQZuWSeEPJlMCGf/+nhAA8pTjn8Oc31pBAAAAGkGbuEnhDyZTBRE8M//+nhAA8/v7+ocfvYJpAAAAEAGf12pCvwA0zNzXHiraZWEAAAAYQZvZSeEPJlMCGf/+nhAApHum+ipWa+GmAAAAGEGb+knhDyZTAhn//p4QAGn9ffyJEfWF/wAAABhBmhtJ4Q8mUwIZ//6eEABDviH9shj6w5UAAAAYQZo8SeEPJlMCG//+p4QAC54rSCET/LfLAAAAHUGaXknhDyZTBRE8N//+p4QAC6+6n7VebVEZGQU7AAAAEAGefWpCvwAJbK5FXgCgroAAAAAYQZp/SeEPJlMCG//+p4QABPcVpBCJ/lybAAAAG0GagEnhDyZTAh3//qmWAAPQmQk3DhCDZ/aXgQAAACdBmqRJ4Q8mUwIb//6nhAAL/7B/lrpdYaGfApsDpS4FMtnHcChSYQEAAAARQZ7CRRE8L/8ABxP2jGqjrCUAAAAPAZ7hdEK/AAmwgDoTkzLAAAAAEAGe42pCvwAGSJkmm+kg9fEAAAAeQZroSahBaJlMCGf//p4QAB7/XI3Y4aW+/vtmrt1lAAAAEUGfBkURLC//AATXP2bgcRD5AAAADwGfJXRCvwAEFtGLgPz7wQAAABABnydqQr8ABpnajlfrFNbAAAAAGUGbKUmoQWyZTAhv//6nhAAIKPmPIxP8uDkAAAAYQZtKSeEKUmUwIb/+p4QACGj5jyMT/LgxAAAAGkGbbUnhDomUwIZ//p4QADNz8gghw4LnF4juAAAAEkGfi0URPCv/AArODru7+kXSwAAAABABn6xqQr8ACstfOdaGF+vBAAAAGEGbrkmoQWiZTAhv//6nhAAIatpDB/o3/wAAABtBm9BJ4QpSZTBREsM//p4QADI2AYL0R19/TVkAAAAQAZ/vakK/AArKjRMiaVoQQAAAABtBm/FJ4Q6JlMCG//6nhAAM78BgE169mfBFxMAAAAAZQZoSSeEPJlMCG//+p4QAE1QBZttn2fOJwQAAABZBmjZJ4Q8mUwIZ//6eEABJRDySwTDAAAAADkGeVEURPC//AAtbKjFgAAAAEAGec3RCvwAPjYrFVMR0u/EAAAARAZ51akK/AA+NUbdEDwPzGMAAAAAaQZp3SahBaJlMCG///qeEABNUvaOxyveNpcEAAAAdQZqZSeEKUmUwURLDf/6nhAAS76Ofj+ZZqmtzIy0AAAAQAZ64akK/AA8wLznWhhfLwAAAABxBmrtJ4Q6JlMFEwz/+nhAARUQ502C9Edff0zjBAAAAEAGe2mpCvwAOgz5jdDkg6ngAAAAYQZrcSeEPJlMCG//+p4QAEe+OmP8Pq27fAAAAGEGa/UnhDyZTAhv//qeEABFvjpj/D6tu5wAAAB1Bmx9J4Q8mUwURPDf//qeEABDvjp9qvNqiMjIIJAAAABABnz5qQr8ADdEtp14AoGWAAAAAHkGbIknhDyZTAhv//qeEAAcb2D/NaeWzwKbIwSb7gQAAABNBn0BFETwr/wAF0bdFVnmmbCTAAAAAEAGfYWpCvwADzGoc3w/iY1EAAAAcQZtkSahBaJlMFPDv/qmWAAJwUdECzQHd9GPZGgAAABABn4NqQr8AA+LPCHjQ1s2BAAAAEUGbiEnhClJlMCG//qeEAAEnAAAAE0GfpkU0TC//AALpktymY+YiLOMAAAAQAZ/FdEK/AAP42BraZQ+dwQAAABABn8dqQr8AA/fOGveaVqpgAAAAGkGbyUmoQWiZTAh3//6plgACc/HnSzo6noPAAAAAHEGb7UnhClJlMCG//qeEAAS76XQIT/PKVK3ReKkAAAAQQZ4LRTRML/8AAtdAitKRfAAAAA8Bnip0Qr8AA8xegMkvEIAAAAAQAZ4sakK/AAPMETNN9JCA8QAAABpBmi5JqEFomUwId//+qZYAAnCLDdGIRz7eEQAAABJBmlJJ4QpSZTAh3/6plgAAlYEAAAASQZ5wRTRML/8AAumS2b527UFgAAAAEAGej3RCvwAD4cMBklv9vkAAAAAQAZ6RakK/AAPizwh40NbNgQAAABpBmpVJqEFomUwId//+qZYAAnPx50s6Op6DwAAAABJBnrNFESwr/wAD4gwCAUwDxWAAAAAOAZ7UakK/AAPjX6R7oV8AAAATQZrZSahBbJlMCHf//qmWAACVgAAAAAxBnvdFFSwv/wAAsoEAAAAQAZ8WdEK/AAPCsAxHZdoQgQAAAA8BnxhqQr8AA8KwC6z1aOkAAAATQZsdSahBbJlMCHf//qmWAACVgQAAABZBnztFFSwv/wAC1ysdLW3FKZ0sOYl8AAAAEAGfWnRCvwADy8WZ5X5KebkAAAAQAZ9cakK/AAPhzhr3mlarwQAAACBBm0FJqEFsmUwId//+qZYABb/di5llnz7cjMH3Gg8KEAAAABRBn39FFSwv/wAGwVakzk/drAaWYwAAABABn550Qr8ABdM0SJ8WYp5xAAAADwGfgGpCvwAJLs8tw2bVywAAABpBm4RJqEFsmUwId//+qZYACMIsN0YhHPse4QAAABJBn6JFFSwr/wAOKzvoW5IraYAAAAAOAZ/DakK/AA4rPFrXracAAAAaQZvHSahBbJlMCHf//qmWAA2VSDNAHpL7EtEAAAAPQZ/lRRUsK/8AFibcCXHBAAAADwGeBmpCvwAWLlA8mCN7gQAAABpBmgpJqEFsmUwId//+qZYAFS+QZoA9JfYVMAAAAA9BnihFFSwr/wAhsrgSsEAAAAAPAZ5JakK/ACHBoHkwRm6BAAAAEkGaTkmoQWyZTAhv//6nhAABJwAAABNBnmxFFSwv/wAlsfPosV3Dx+nOAAAAEAGei3RCvwA01lXchsqUl+EAAAAQAZ6NakK/ADTM3NceKtplYQAAABpBmpFJqEFsmUwIb//+p4QAKj7qfqONCQ5QQQAAABJBnq9FFSwr/wAhsnznWT5OboAAAAAOAZ7QakK/ACHBoXe9SqoAAAAaQZrSSahBbJlMCG///qeEABsfYP8JwW6E6kEAAAAZQZrzSeEKUmUwId/+qZYACM/Hn79kG4qe4AAAABJBmxdJ4Q6JlMCHf/6plgAAlYAAAAATQZ81RRE8L/8ABsIls1Myy5DT4wAAAA8Bn1R0Qr8ACSuyhSbZK+0AAAAPAZ9WakK/AAkuxHkwPXx3AAAAEkGbW0moQWiZTAhv//6nhAABJwAAABBBn3lFESwv/wAGwiWzfpFmAAAADwGfmHRCvwAJK7KFJtkr7QAAAA8Bn5pqQr8ACS7PLcNm1csAAAAdQZudSahBbJlMFEw3//6nhAAR0fM1Nm3Gb3U+M30AAAAQAZ+8akK/AA6DPCHjQ1lqgQAAABtBm6FJ4QpSZTAhv/6nhAAR746fdaWZqbdFulgAAAAQQZ/fRTRML/8ACsssVCC94AAAABABn/50Qr8ADttga2mUPXZBAAAADwGf4GpCvwAO2ah0LRucwAAAABtBm+NJqEFomUwU8N/+p4QAC/+wf5q6aMjHYrEAAAAQAZ4CakK/AAmsrkVeAKCpgAAAABFBmgdJ4QpSZTAhn/6eEAAEfQAAAAxBniVFNEwv/wAAsoEAAAAQAZ5EdEK/AAPuob2XVfxbQQAAABABnkZqQr8AA+6hvYrR92NBAAAAG0GaSUuoQhBaJEYIKAfyAf2HgFPCv/44QAARcAAAACcBnmhqQr8Cr2PtQcTdqsNJJuWqhgcstbvNKiCaPWdr1tSWYpQQekAAAAtYbW9vdgAAAGxtdmhkAAAAAAAAAAAAAAAAAAAD6AAAH5AAAQAAAQAAAAAAAAAAAAAAAAEAAAAAAAAAAAAAAAAAAAABAAAAAAAAAAAAAAAAAABAAAAAAAAAAAAAAAAAAAAAAAAAAAAAAAAAAAAAAAAAAgAACoJ0cmFrAAAAXHRraGQAAAADAAAAAAAAAAAAAAABAAAAAAAAH5AAAAAAAAAAAAAAAAAAAAAAAAEAAAAAAAAAAAAAAAAAAAABAAAAAAAAAAAAAAAAAABAAAAAARAAAAEQAAAAAAAkZWR0cwAAABxlbHN0AAAAAAAAAAEAAB+QAAAEAAABAAAAAAn6bWRpYQAAACBtZGhkAAAAAAAAAAAAAAAAAAAyAAABlABVxAAAAAAALWhkbHIAAAAAAAAAAHZpZGUAAAAAAAAAAAAAAABWaWRlb0hhbmRsZXIAAAAJpW1pbmYAAAAUdm1oZAAAAAEAAAAAAAAAAAAAACRkaW5mAAAAHGRyZWYAAAAAAAAAAQAAAAx1cmwgAAAAAQAACWVzdGJsAAAAlXN0c2QAAAAAAAAAAQAAAIVhdmMxAAAAAAAAAAEAAAAAAAAAAAAAAAAAAAAAARABEABIAAAASAAAAAAAAAABAAAAAAAAAAAAAAAAAAAAAAAAAAAAAAAAAAAAAAAAAAAAGP//AAAAL2F2Y0MB9AAN/+EAF2f0AA2RmygiEdCAAAADAIAAABkHihTLAQAFaOvjxEgAAAAYc3R0cwAAAAAAAAABAAAAygAAAgAAAAAUc3RzcwAAAAAAAAABAAAAAQAABTBjdHRzAAAAAAAAAKQAAAADAAAEAAAAAAEAAAoAAAAAAQAABAAAAAABAAAAAAAAAAEAAAIAAAAABQAABAAAAAABAAAIAAAAAAIAAAIAAAAAAwAABAAAAAABAAAIAAAAAAIAAAIAAAAAAQAABAAAAAABAAAKAAAAAAEAAAQAAAAAAQAAAAAAAAABAAACAAAAAAEAAAYAAAAAAQAAAgAAAAABAAAKAAAAAAEAAAQAAAAAAQAAAAAAAAABAAACAAAAAAEAAAoAAAAAAQAABAAAAAABAAAAAAAAAAEAAAIAAAAAAQAABAAAAAABAAAGAAAAAAEAAAIAAAAAAwAABAAAAAABAAAGAAAAAAEAAAIAAAAAAQAABgAAAAABAAACAAAAAAEAAAoAAAAAAQAABAAAAAABAAAAAAAAAAEAAAIAAAAAAQAABAAAAAABAAAIAAAAAAIAAAIAAAAAAwAABAAAAAABAAAKAAAAAAEAAAQAAAAAAQAAAAAAAAABAAACAAAAAAEAAAQAAAAAAQAACgAAAAABAAAEAAAAAAEAAAAAAAAAAQAAAgAAAAABAAAKAAAAAAEAAAQAAAAAAQAAAAAAAAABAAACAAAAAAEAAAYAAAAAAQAAAgAAAAAIAAAEAAAAAAEAAAYAAAAAAQAAAgAAAAABAAAEAAAAAAEAAAYAAAAAAQAAAgAAAAACAAAEAAAAAAEAAAYAAAAAAQAAAgAAAAAEAAAEAAAAAAEAAAYAAAAAAQAAAgAAAAACAAAEAAAAAAEAAAoAAAAAAQAABAAAAAABAAAAAAAAAAEAAAIAAAAAAQAACgAAAAABAAAEAAAAAAEAAAAAAAAAAQAAAgAAAAACAAAEAAAAAAEAAAgAAAAAAgAAAgAAAAABAAAEAAAAAAEAAAYAAAAAAQAAAgAAAAACAAAEAAAAAAEAAAoAAAAAAQAABAAAAAABAAAAAAAAAAEAAAIAAAAAAQAABAAAAAABAAAGAAAAAAEAAAIAAAAAAQAABgAAAAABAAACAAAAAAIAAAQAAAAAAQAABgAAAAABAAACAAAAAAEAAAgAAAAAAgAAAgAAAAABAAAGAAAAAAEAAAIAAAAAAQAACgAAAAABAAAEAAAAAAEAAAAAAAAAAQAAAgAAAAABAAAEAAAAAAEAAAoAAAAAAQAABAAAAAABAAAAAAAAAAEAAAIAAAAAAQAABAAAAAABAAAKAAAAAAEAAAQAAAAAAQAAAAAAAAABAAACAAAAAAEAAAgAAAAAAgAAAgAAAAABAAAKAAAAAAEAAAQAAAAAAQAAAAAAAAABAAACAAAAAAEAAAoAAAAAAQAABAAAAAABAAAAAAAAAAEAAAIAAAAAAQAACgAAAAABAAAEAAAAAAEAAAAAAAAAAQAAAgAAAAABAAAIAAAAAAIAAAIAAAAAAQAACAAAAAACAAACAAAAAAEAAAgAAAAAAgAAAgAAAAABAAAKAAAAAAEAAAQAAAAAAQAAAAAAAAABAAACAAAAAAEAAAgAAAAAAgAAAgAAAAACAAAEAAAAAAEAAAoAAAAAAQAABAAAAAABAAAAAAAAAAEAAAIAAAAAAQAACgAAAAABAAAEAAAAAAEAAAAAAAAAAQAAAgAAAAABAAAGAAAAAAEAAAIAAAAAAQAACgAAAAABAAAEAAAAAAEAAAAAAAAAAQAAAgAAAAABAAAGAAAAAAEAAAIAAAAAAQAACgAAAAABAAAEAAAAAAEAAAAAAAAAAQAAAgAAAAABAAAGAAAAAAEAAAIAAAAAHHN0c2MAAAAAAAAAAQAAAAEAAADKAAAAAQAAAzxzdHN6AAAAAAAAAAAAAADKAAAFvgAAABgAAAAbAAAAJgAAABgAAAAUAAAAEwAAAB8AAAAbAAAAHAAAABwAAAAdAAAAJgAAABYAAAAUAAAAHQAAABwAAAAcAAAAHgAAABUAAAASAAAAHQAAACAAAAAUAAAAFAAAABMAAAAgAAAAEwAAABUAAAAXAAAAFAAAABQAAAAWAAAAEAAAABQAAAATAAAAHgAAACEAAAAUAAAAHAAAAB0AAAAeAAAAMwAAABQAAAAiAAAAFAAAACEAAAAaAAAAFAAAABMAAAAdAAAAHwAAABYAAAASAAAAHwAAAB0AAAAdAAAAJwAAABgAAAAUAAAAFAAAABwAAAAaAAAAFwAAABQAAAAUAAAAFgAAABQAAAAUAAAAFAAAAB4AAAAUAAAAHAAAABwAAAAcAAAAHAAAABwAAAAcAAAAHAAAAB0AAAAhAAAAFAAAAB0AAAAhAAAAFAAAABwAAAAcAAAAHgAAABQAAAAcAAAAHAAAABwAAAAcAAAAIQAAABQAAAAcAAAAHwAAACsAAAAVAAAAEwAAABQAAAAiAAAAFQAAABMAAAAUAAAAHQAAABwAAAAeAAAAFgAAABQAAAAcAAAAHwAAABQAAAAfAAAAHQAAABoAAAASAAAAFAAAABUAAAAeAAAAIQAAABQAAAAgAAAAFAAAABwAAAAcAAAAIQAAABQAAAAiAAAAFwAAABQAAAAgAAAAFAAAABUAAAAXAAAAFAAAABQAAAAeAAAAIAAAABQAAAATAAAAFAAAAB4AAAAWAAAAFgAAABQAAAAUAAAAHgAAABYAAAASAAAAFwAAABAAAAAUAAAAEwAAABcAAAAaAAAAFAAAABQAAAAkAAAAGAAAABQAAAATAAAAHgAAABYAAAASAAAAHgAAABMAAAATAAAAHgAAABMAAAATAAAAFgAAABcAAAAUAAAAFAAAAB4AAAAWAAAAEgAAAB4AAAAdAAAAFgAAABcAAAATAAAAEwAAABYAAAAUAAAAEwAAABMAAAAhAAAAFAAAAB8AAAAUAAAAFAAAABMAAAAfAAAAFAAAABUAAAAQAAAAFAAAABQAAAAfAAAAKwAAABRzdGNvAAAAAAAAAAEAAAAwAAAAYnVkdGEAAABabWV0YQAAAAAAAAAhaGRscgAAAAAAAAAAbWRpcmFwcGwAAAAAAAAAAAAAAAAtaWxzdAAAACWpdG9vAAAAHWRhdGEAAAABAAAAAExhdmY1OC4yMC4xMDA=\" type=\"video/mp4\" />\n",
       "             </video>"
      ],
      "text/plain": [
       "<IPython.core.display.HTML object>"
      ]
     },
     "execution_count": 143,
     "metadata": {},
     "output_type": "execute_result"
    }
   ],
   "source": [
    "# Training\n",
    "env = EnvironmentExploring(grid_size=size, max_time=T, temperature=0.3)\n",
    "agent = DQN_CNN(size, lr=.1, epsilon = 0.1, memory_size=2000, batch_size = 32,n_state=3)\n",
    "train_explore(agent, env, epochs_train, prefix='cnn_train_explore')\n",
    "HTML(display_videos('cnn_train_explore10.mp4'))"
   ]
  },
  {
   "cell_type": "code",
   "execution_count": 144,
   "metadata": {},
   "outputs": [
    {
     "name": "stdout",
     "output_type": "stream",
     "text": [
      "Win/lose count 21.0/5.0. Average score (16.0)\n",
      "Win/lose count 25.0/2.0. Average score (19.5)\n",
      "Win/lose count 26.0/0. Average score (21.666666666666668)\n",
      "Win/lose count 23.0/2.0. Average score (21.5)\n",
      "Win/lose count 26.0/2.0. Average score (22.0)\n",
      "Win/lose count 19.0/3.0. Average score (21.0)\n",
      "Win/lose count 23.5/2.0. Average score (21.071428571428573)\n",
      "Win/lose count 21.5/0. Average score (21.125)\n",
      "Win/lose count 19.0/2.0. Average score (20.666666666666668)\n",
      "Win/lose count 19.5/1.0. Average score (20.45)\n",
      "Win/lose count 21.5/1.0. Average score (20.454545454545453)\n",
      "Win/lose count 24.5/2.0. Average score (20.625)\n",
      "Win/lose count 26.0/0. Average score (21.03846153846154)\n",
      "Win/lose count 24.0/1.0. Average score (21.178571428571427)\n",
      "Win/lose count 19.5/1.0. Average score (21.0)\n",
      "Win/lose count 20.0/3.0. Average score (20.75)\n",
      "Win/lose count 23.0/4.0. Average score (20.647058823529413)\n",
      "Win/lose count 23.5/0. Average score (20.805555555555557)\n",
      "Win/lose count 20.5/3.0. Average score (20.63157894736842)\n",
      "Win/lose count 21.0/2.0. Average score (20.55)\n",
      "Final score: 20.55\n"
     ]
    },
    {
     "data": {
      "text/html": [
       "<video alt=\"test\" controls>\n",
       "                <source src=\"data:video/mp4;base64,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\" type=\"video/mp4\" />\n",
       "             </video>"
      ],
      "text/plain": [
       "<IPython.core.display.HTML object>"
      ]
     },
     "execution_count": 144,
     "metadata": {},
     "output_type": "execute_result"
    }
   ],
   "source": [
    "# Evaluation\n",
    "test(agent,env,epochs_test,prefix='cnn_test_explore')\n",
    "HTML(display_videos('cnn_test_explore10.mp4'))"
   ]
  },
  {
   "cell_type": "markdown",
   "metadata": {},
   "source": [
    "***\n",
    "***\n",
    "__BONUS question__ Use the expert DQN from the previous question to generate some winning games. Train a model that mimicks its behavior. Compare the performances."
   ]
  },
  {
   "cell_type": "markdown",
   "metadata": {},
   "source": []
  },
  {
   "cell_type": "markdown",
   "metadata": {},
   "source": [
    "***"
   ]
  }
 ],
 "metadata": {
  "kernelspec": {
   "display_name": "Python 3",
   "language": "python",
   "name": "python3"
  },
  "language_info": {
   "codemirror_mode": {
    "name": "ipython",
    "version": 3
   },
   "file_extension": ".py",
   "mimetype": "text/x-python",
   "name": "python",
   "nbconvert_exporter": "python",
   "pygments_lexer": "ipython3",
   "version": "3.6.8"
  }
 },
 "nbformat": 4,
 "nbformat_minor": 2
}
